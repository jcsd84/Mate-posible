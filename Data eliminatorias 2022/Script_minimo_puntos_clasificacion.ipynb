{
 "cells": [
  {
   "cell_type": "code",
   "execution_count": 16,
   "metadata": {
    "collapsed": true,
    "pycharm": {
     "is_executing": false
    }
   },
   "outputs": [
    {
     "name": "stdout",
     "text": [
      "<class 'pandas.core.frame.DataFrame'>\nRangeIndex: 59 entries, 0 to 58\nData columns (total 17 columns):\n #   Column             Non-Null Count  Dtype  \n---  ------             --------------  -----  \n 0   Anho               58 non-null     float64\n 1   Posicion           58 non-null     float64\n 2   Selección          58 non-null     object \n 3   Pts.               58 non-null     float64\n 4   PJ                 58 non-null     float64\n 5   PG                 58 non-null     float64\n 6   PE                 58 non-null     float64\n 7   PP                 58 non-null     float64\n 8   GF                 58 non-null     float64\n 9   GC                 58 non-null     float64\n 10  Dif.               58 non-null     float64\n 11  Golpartido         58 non-null     float64\n 12  Golcontra          58 non-null     float64\n 13  Diferenciapartido  58 non-null     float64\n 14  Prop_ganados       58 non-null     float64\n 15  Prop_empate        58 non-null     float64\n 16  Prop_perdido       58 non-null     float64\ndtypes: float64(16), object(1)\nmemory usage: 8.0+ KB\n"
     ],
     "output_type": "stream"
    }
   ],
   "source": [
    "import pandas as pd\n",
    "\n",
    "data_posicion = pd.read_csv(\"/Users/home/Documents/Documentos/Mate Posible/Matematicamente posible 2018/BD_posiciones_eliminatorias_98_2018.csv\")\n",
    "data_posicion.info()\n"
   ]
  },
  {
   "cell_type": "code",
   "execution_count": 17,
   "outputs": [
    {
     "data": {
      "text/plain": "      Anho  Posicion  Pts.   PG   PE   PP  Dif.\n4   2018.0       5.0  26.0  7.0  5.0  6.0   1.0\n14  2014.0       5.0  25.0  7.0  4.0  5.0   0.0\n23  2010.0       5.0  24.0  6.0  6.0  6.0   8.0\n33  2006.0       5.0  25.0  6.0  7.0  5.0  -5.0\n43  2002.0       5.0  27.0  7.0  6.0  5.0   6.0\n53  1998.0       5.0  25.0  7.0  4.0  5.0  -1.0",
      "text/html": "<div>\n<style scoped>\n    .dataframe tbody tr th:only-of-type {\n        vertical-align: middle;\n    }\n\n    .dataframe tbody tr th {\n        vertical-align: top;\n    }\n\n    .dataframe thead th {\n        text-align: right;\n    }\n</style>\n<table border=\"1\" class=\"dataframe\">\n  <thead>\n    <tr style=\"text-align: right;\">\n      <th></th>\n      <th>Anho</th>\n      <th>Posicion</th>\n      <th>Pts.</th>\n      <th>PG</th>\n      <th>PE</th>\n      <th>PP</th>\n      <th>Dif.</th>\n    </tr>\n  </thead>\n  <tbody>\n    <tr>\n      <th>4</th>\n      <td>2018.0</td>\n      <td>5.0</td>\n      <td>26.0</td>\n      <td>7.0</td>\n      <td>5.0</td>\n      <td>6.0</td>\n      <td>1.0</td>\n    </tr>\n    <tr>\n      <th>14</th>\n      <td>2014.0</td>\n      <td>5.0</td>\n      <td>25.0</td>\n      <td>7.0</td>\n      <td>4.0</td>\n      <td>5.0</td>\n      <td>0.0</td>\n    </tr>\n    <tr>\n      <th>23</th>\n      <td>2010.0</td>\n      <td>5.0</td>\n      <td>24.0</td>\n      <td>6.0</td>\n      <td>6.0</td>\n      <td>6.0</td>\n      <td>8.0</td>\n    </tr>\n    <tr>\n      <th>33</th>\n      <td>2006.0</td>\n      <td>5.0</td>\n      <td>25.0</td>\n      <td>6.0</td>\n      <td>7.0</td>\n      <td>5.0</td>\n      <td>-5.0</td>\n    </tr>\n    <tr>\n      <th>43</th>\n      <td>2002.0</td>\n      <td>5.0</td>\n      <td>27.0</td>\n      <td>7.0</td>\n      <td>6.0</td>\n      <td>5.0</td>\n      <td>6.0</td>\n    </tr>\n    <tr>\n      <th>53</th>\n      <td>1998.0</td>\n      <td>5.0</td>\n      <td>25.0</td>\n      <td>7.0</td>\n      <td>4.0</td>\n      <td>5.0</td>\n      <td>-1.0</td>\n    </tr>\n  </tbody>\n</table>\n</div>"
     },
     "metadata": {},
     "output_type": "execute_result",
     "execution_count": 17
    }
   ],
   "source": [
    "data_posicion = data_posicion[['Anho', 'Posicion', 'Pts.',\n",
    "                                 'PG','PE','PP', 'Dif.']]\n",
    "data_posicion_5 = data_posicion[data_posicion['Posicion']==5]\n",
    "data_posicion_5"
   ],
   "metadata": {
    "collapsed": false,
    "pycharm": {
     "name": "#%%\n",
     "is_executing": false
    }
   }
  },
  {
   "cell_type": "code",
   "execution_count": 19,
   "outputs": [
    {
     "data": {
      "text/plain": "      Anho  Posicion  Pts.   PG   PE   PP  Dif.\n4   2018.0       5.0  26.0  7.0  5.0  6.0   1.0\n5   2018.0       6.0  26.0  8.0  2.0  8.0  -1.0\n14  2014.0       5.0  25.0  7.0  4.0  5.0   0.0\n15  2014.0       6.0  20.0  5.0  5.0  6.0  -6.0\n23  2010.0       5.0  24.0  6.0  6.0  6.0   8.0\n24  2010.0       6.0  23.0  6.0  5.0  7.0  -4.0\n33  2006.0       5.0  25.0  6.0  7.0  5.0  -5.0\n34  2006.0       6.0  24.0  6.0  6.0  6.0   8.0\n43  2002.0       5.0  27.0  7.0  6.0  5.0   6.0\n44  2002.0       6.0  27.0  7.0  6.0  5.0   5.0\n53  1998.0       5.0  25.0  7.0  4.0  5.0  -1.0\n54  1998.0       6.0  21.0  6.0  3.0  7.0   1.0",
      "text/html": "<div>\n<style scoped>\n    .dataframe tbody tr th:only-of-type {\n        vertical-align: middle;\n    }\n\n    .dataframe tbody tr th {\n        vertical-align: top;\n    }\n\n    .dataframe thead th {\n        text-align: right;\n    }\n</style>\n<table border=\"1\" class=\"dataframe\">\n  <thead>\n    <tr style=\"text-align: right;\">\n      <th></th>\n      <th>Anho</th>\n      <th>Posicion</th>\n      <th>Pts.</th>\n      <th>PG</th>\n      <th>PE</th>\n      <th>PP</th>\n      <th>Dif.</th>\n    </tr>\n  </thead>\n  <tbody>\n    <tr>\n      <th>4</th>\n      <td>2018.0</td>\n      <td>5.0</td>\n      <td>26.0</td>\n      <td>7.0</td>\n      <td>5.0</td>\n      <td>6.0</td>\n      <td>1.0</td>\n    </tr>\n    <tr>\n      <th>5</th>\n      <td>2018.0</td>\n      <td>6.0</td>\n      <td>26.0</td>\n      <td>8.0</td>\n      <td>2.0</td>\n      <td>8.0</td>\n      <td>-1.0</td>\n    </tr>\n    <tr>\n      <th>14</th>\n      <td>2014.0</td>\n      <td>5.0</td>\n      <td>25.0</td>\n      <td>7.0</td>\n      <td>4.0</td>\n      <td>5.0</td>\n      <td>0.0</td>\n    </tr>\n    <tr>\n      <th>15</th>\n      <td>2014.0</td>\n      <td>6.0</td>\n      <td>20.0</td>\n      <td>5.0</td>\n      <td>5.0</td>\n      <td>6.0</td>\n      <td>-6.0</td>\n    </tr>\n    <tr>\n      <th>23</th>\n      <td>2010.0</td>\n      <td>5.0</td>\n      <td>24.0</td>\n      <td>6.0</td>\n      <td>6.0</td>\n      <td>6.0</td>\n      <td>8.0</td>\n    </tr>\n    <tr>\n      <th>24</th>\n      <td>2010.0</td>\n      <td>6.0</td>\n      <td>23.0</td>\n      <td>6.0</td>\n      <td>5.0</td>\n      <td>7.0</td>\n      <td>-4.0</td>\n    </tr>\n    <tr>\n      <th>33</th>\n      <td>2006.0</td>\n      <td>5.0</td>\n      <td>25.0</td>\n      <td>6.0</td>\n      <td>7.0</td>\n      <td>5.0</td>\n      <td>-5.0</td>\n    </tr>\n    <tr>\n      <th>34</th>\n      <td>2006.0</td>\n      <td>6.0</td>\n      <td>24.0</td>\n      <td>6.0</td>\n      <td>6.0</td>\n      <td>6.0</td>\n      <td>8.0</td>\n    </tr>\n    <tr>\n      <th>43</th>\n      <td>2002.0</td>\n      <td>5.0</td>\n      <td>27.0</td>\n      <td>7.0</td>\n      <td>6.0</td>\n      <td>5.0</td>\n      <td>6.0</td>\n    </tr>\n    <tr>\n      <th>44</th>\n      <td>2002.0</td>\n      <td>6.0</td>\n      <td>27.0</td>\n      <td>7.0</td>\n      <td>6.0</td>\n      <td>5.0</td>\n      <td>5.0</td>\n    </tr>\n    <tr>\n      <th>53</th>\n      <td>1998.0</td>\n      <td>5.0</td>\n      <td>25.0</td>\n      <td>7.0</td>\n      <td>4.0</td>\n      <td>5.0</td>\n      <td>-1.0</td>\n    </tr>\n    <tr>\n      <th>54</th>\n      <td>1998.0</td>\n      <td>6.0</td>\n      <td>21.0</td>\n      <td>6.0</td>\n      <td>3.0</td>\n      <td>7.0</td>\n      <td>1.0</td>\n    </tr>\n  </tbody>\n</table>\n</div>"
     },
     "metadata": {},
     "output_type": "execute_result",
     "execution_count": 19
    }
   ],
   "source": [
    "positions = [5,6]\n",
    "data_posicion_56 = data_posicion[data_posicion.Posicion.isin(positions)]\n",
    "data_posicion_56"
   ],
   "metadata": {
    "collapsed": false,
    "pycharm": {
     "name": "#%%\n",
     "is_executing": false
    }
   }
  },
  {
   "cell_type": "code",
   "execution_count": 17,
   "outputs": [],
   "source": [],
   "metadata": {
    "collapsed": false,
    "pycharm": {
     "name": "#%%",
     "is_executing": false
    }
   }
  }
 ],
 "metadata": {
  "kernelspec": {
   "display_name": "Python 3",
   "language": "python",
   "name": "python3"
  },
  "language_info": {
   "codemirror_mode": {
    "name": "ipython",
    "version": 2
   },
   "file_extension": ".py",
   "mimetype": "text/x-python",
   "name": "python",
   "nbconvert_exporter": "python",
   "pygments_lexer": "ipython2",
   "version": "2.7.6"
  },
  "pycharm": {
   "stem_cell": {
    "cell_type": "raw",
    "source": [],
    "metadata": {
     "collapsed": false
    }
   }
  }
 },
 "nbformat": 4,
 "nbformat_minor": 0
}