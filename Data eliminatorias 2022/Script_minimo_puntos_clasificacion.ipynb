{
 "cells": [
  {
   "cell_type": "code",
   "execution_count": 2,
   "metadata": {
    "collapsed": true,
    "pycharm": {
     "is_executing": false
    }
   },
   "outputs": [
    {
     "name": "stdout",
     "text": [
      "<class 'pandas.core.frame.DataFrame'>\nRangeIndex: 59 entries, 0 to 58\nData columns (total 17 columns):\n #   Column             Non-Null Count  Dtype  \n---  ------             --------------  -----  \n 0   Anho               58 non-null     float64\n 1   Posicion           58 non-null     float64\n 2   Selección          58 non-null     object \n 3   Pts.               58 non-null     float64\n 4   PJ                 58 non-null     float64\n 5   PG                 58 non-null     float64\n 6   PE                 58 non-null     float64\n 7   PP                 58 non-null     float64\n 8   GF                 58 non-null     float64\n 9   GC                 58 non-null     float64\n 10  Dif.               58 non-null     float64\n 11  Golpartido         58 non-null     float64\n 12  Golcontra          58 non-null     float64\n 13  Diferenciapartido  58 non-null     float64\n 14  Prop_ganados       58 non-null     float64\n 15  Prop_empate        58 non-null     float64\n 16  Prop_perdido       58 non-null     float64\ndtypes: float64(16), object(1)\nmemory usage: 8.0+ KB\n"
     ],
     "output_type": "stream"
    },
    {
     "data": {
      "text/plain": "     Anho  Posicion  Selección  Pts.    PJ    PG   PE   PP    GF    GC  Dif.  \\\n0  2018.0       1.0     Brasil  41.0  18.0  12.0  5.0  1.0  41.0  11.0  30.0   \n1  2018.0       2.0    Uruguay  31.0  18.0   9.0  4.0  5.0  32.0  20.0  12.0   \n2  2018.0       3.0  Argentina  28.0  18.0   7.0  7.0  4.0  19.0  16.0   3.0   \n3  2018.0       4.0   Colombia  27.0  18.0   7.0  6.0  5.0  21.0  19.0   2.0   \n4  2018.0       5.0       Perú  26.0  18.0   7.0  5.0  6.0  27.0  26.0   1.0   \n\n   Golpartido  Golcontra  Diferenciapartido  Prop_ganados  Prop_empate  \\\n0         2.3        0.6                1.7          0.67         0.28   \n1         1.8        1.1                0.7          0.50         0.22   \n2         1.1        0.9                0.2          0.39         0.39   \n3         1.2        1.1                0.1          0.39         0.33   \n4         1.5        1.4                0.1          0.39         0.28   \n\n   Prop_perdido  \n0          0.06  \n1          0.28  \n2          0.22  \n3          0.28  \n4          0.33  ",
      "text/html": "<div>\n<style scoped>\n    .dataframe tbody tr th:only-of-type {\n        vertical-align: middle;\n    }\n\n    .dataframe tbody tr th {\n        vertical-align: top;\n    }\n\n    .dataframe thead th {\n        text-align: right;\n    }\n</style>\n<table border=\"1\" class=\"dataframe\">\n  <thead>\n    <tr style=\"text-align: right;\">\n      <th></th>\n      <th>Anho</th>\n      <th>Posicion</th>\n      <th>Selección</th>\n      <th>Pts.</th>\n      <th>PJ</th>\n      <th>PG</th>\n      <th>PE</th>\n      <th>PP</th>\n      <th>GF</th>\n      <th>GC</th>\n      <th>Dif.</th>\n      <th>Golpartido</th>\n      <th>Golcontra</th>\n      <th>Diferenciapartido</th>\n      <th>Prop_ganados</th>\n      <th>Prop_empate</th>\n      <th>Prop_perdido</th>\n    </tr>\n  </thead>\n  <tbody>\n    <tr>\n      <th>0</th>\n      <td>2018.0</td>\n      <td>1.0</td>\n      <td>Brasil</td>\n      <td>41.0</td>\n      <td>18.0</td>\n      <td>12.0</td>\n      <td>5.0</td>\n      <td>1.0</td>\n      <td>41.0</td>\n      <td>11.0</td>\n      <td>30.0</td>\n      <td>2.3</td>\n      <td>0.6</td>\n      <td>1.7</td>\n      <td>0.67</td>\n      <td>0.28</td>\n      <td>0.06</td>\n    </tr>\n    <tr>\n      <th>1</th>\n      <td>2018.0</td>\n      <td>2.0</td>\n      <td>Uruguay</td>\n      <td>31.0</td>\n      <td>18.0</td>\n      <td>9.0</td>\n      <td>4.0</td>\n      <td>5.0</td>\n      <td>32.0</td>\n      <td>20.0</td>\n      <td>12.0</td>\n      <td>1.8</td>\n      <td>1.1</td>\n      <td>0.7</td>\n      <td>0.50</td>\n      <td>0.22</td>\n      <td>0.28</td>\n    </tr>\n    <tr>\n      <th>2</th>\n      <td>2018.0</td>\n      <td>3.0</td>\n      <td>Argentina</td>\n      <td>28.0</td>\n      <td>18.0</td>\n      <td>7.0</td>\n      <td>7.0</td>\n      <td>4.0</td>\n      <td>19.0</td>\n      <td>16.0</td>\n      <td>3.0</td>\n      <td>1.1</td>\n      <td>0.9</td>\n      <td>0.2</td>\n      <td>0.39</td>\n      <td>0.39</td>\n      <td>0.22</td>\n    </tr>\n    <tr>\n      <th>3</th>\n      <td>2018.0</td>\n      <td>4.0</td>\n      <td>Colombia</td>\n      <td>27.0</td>\n      <td>18.0</td>\n      <td>7.0</td>\n      <td>6.0</td>\n      <td>5.0</td>\n      <td>21.0</td>\n      <td>19.0</td>\n      <td>2.0</td>\n      <td>1.2</td>\n      <td>1.1</td>\n      <td>0.1</td>\n      <td>0.39</td>\n      <td>0.33</td>\n      <td>0.28</td>\n    </tr>\n    <tr>\n      <th>4</th>\n      <td>2018.0</td>\n      <td>5.0</td>\n      <td>Perú</td>\n      <td>26.0</td>\n      <td>18.0</td>\n      <td>7.0</td>\n      <td>5.0</td>\n      <td>6.0</td>\n      <td>27.0</td>\n      <td>26.0</td>\n      <td>1.0</td>\n      <td>1.5</td>\n      <td>1.4</td>\n      <td>0.1</td>\n      <td>0.39</td>\n      <td>0.28</td>\n      <td>0.33</td>\n    </tr>\n  </tbody>\n</table>\n</div>"
     },
     "metadata": {},
     "output_type": "execute_result",
     "execution_count": 2
    }
   ],
   "source": [
    "import pandas as pd\n",
    "\n",
    "data_posicion = pd.read_csv(\"/Users/home/Documents/Documentos/Mate Posible/Matematicamente posible 2018/BD_posiciones_eliminatorias_98_2018.csv\")\n",
    "data_posicion.info()\n",
    "data_posicion.head()"
   ]
  },
  {
   "cell_type": "code",
   "execution_count": 7,
   "outputs": [
    {
     "data": {
      "text/plain": "      Anho  Posicion  Pts.   PG   PE   PP  Dif.\n4   2018.0       5.0  26.0  7.0  5.0  6.0   1.0\n14  2014.0       5.0  25.0  7.0  4.0  5.0   0.0\n23  2010.0       5.0  24.0  6.0  6.0  6.0   8.0\n33  2006.0       5.0  25.0  6.0  7.0  5.0  -5.0\n43  2002.0       5.0  27.0  7.0  6.0  5.0   6.0\n53  1998.0       5.0  25.0  7.0  4.0  5.0  -1.0",
      "text/html": "<div>\n<style scoped>\n    .dataframe tbody tr th:only-of-type {\n        vertical-align: middle;\n    }\n\n    .dataframe tbody tr th {\n        vertical-align: top;\n    }\n\n    .dataframe thead th {\n        text-align: right;\n    }\n</style>\n<table border=\"1\" class=\"dataframe\">\n  <thead>\n    <tr style=\"text-align: right;\">\n      <th></th>\n      <th>Anho</th>\n      <th>Posicion</th>\n      <th>Pts.</th>\n      <th>PG</th>\n      <th>PE</th>\n      <th>PP</th>\n      <th>Dif.</th>\n    </tr>\n  </thead>\n  <tbody>\n    <tr>\n      <th>4</th>\n      <td>2018.0</td>\n      <td>5.0</td>\n      <td>26.0</td>\n      <td>7.0</td>\n      <td>5.0</td>\n      <td>6.0</td>\n      <td>1.0</td>\n    </tr>\n    <tr>\n      <th>14</th>\n      <td>2014.0</td>\n      <td>5.0</td>\n      <td>25.0</td>\n      <td>7.0</td>\n      <td>4.0</td>\n      <td>5.0</td>\n      <td>0.0</td>\n    </tr>\n    <tr>\n      <th>23</th>\n      <td>2010.0</td>\n      <td>5.0</td>\n      <td>24.0</td>\n      <td>6.0</td>\n      <td>6.0</td>\n      <td>6.0</td>\n      <td>8.0</td>\n    </tr>\n    <tr>\n      <th>33</th>\n      <td>2006.0</td>\n      <td>5.0</td>\n      <td>25.0</td>\n      <td>6.0</td>\n      <td>7.0</td>\n      <td>5.0</td>\n      <td>-5.0</td>\n    </tr>\n    <tr>\n      <th>43</th>\n      <td>2002.0</td>\n      <td>5.0</td>\n      <td>27.0</td>\n      <td>7.0</td>\n      <td>6.0</td>\n      <td>5.0</td>\n      <td>6.0</td>\n    </tr>\n    <tr>\n      <th>53</th>\n      <td>1998.0</td>\n      <td>5.0</td>\n      <td>25.0</td>\n      <td>7.0</td>\n      <td>4.0</td>\n      <td>5.0</td>\n      <td>-1.0</td>\n    </tr>\n  </tbody>\n</table>\n</div>"
     },
     "metadata": {},
     "output_type": "execute_result",
     "execution_count": 7
    }
   ],
   "source": [
    "data_posicion_5 = data_posicion[['Anho', 'Posicion', 'Pts.',\n",
    "                                 'PG','PE','PP', 'Dif.']]\n",
    "data_posicion_5 = data_posicion_5[data_posicion_5['Posicion']==5]\n",
    "data_posicion_5"
   ],
   "metadata": {
    "collapsed": false,
    "pycharm": {
     "name": "#%%\n",
     "is_executing": false
    }
   }
  },
  {
   "cell_type": "code",
   "execution_count": null,
   "outputs": [],
   "source": [],
   "metadata": {
    "collapsed": false,
    "pycharm": {
     "name": "#%%\n"
    }
   }
  },
  {
   "cell_type": "code",
   "execution_count": null,
   "outputs": [],
   "source": [],
   "metadata": {
    "collapsed": false,
    "pycharm": {
     "name": "#%%"
    }
   }
  }
 ],
 "metadata": {
  "kernelspec": {
   "display_name": "Python 3",
   "language": "python",
   "name": "python3"
  },
  "language_info": {
   "codemirror_mode": {
    "name": "ipython",
    "version": 2
   },
   "file_extension": ".py",
   "mimetype": "text/x-python",
   "name": "python",
   "nbconvert_exporter": "python",
   "pygments_lexer": "ipython2",
   "version": "2.7.6"
  },
  "pycharm": {
   "stem_cell": {
    "cell_type": "raw",
    "source": [],
    "metadata": {
     "collapsed": false
    }
   }
  }
 },
 "nbformat": 4,
 "nbformat_minor": 0
}