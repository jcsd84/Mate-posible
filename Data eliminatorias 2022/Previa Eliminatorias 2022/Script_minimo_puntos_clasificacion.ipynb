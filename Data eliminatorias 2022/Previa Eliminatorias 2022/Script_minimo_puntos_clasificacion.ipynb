{
 "cells": [
  {
   "cell_type": "code",
   "execution_count": 1,
   "metadata": {
    "collapsed": true,
    "pycharm": {
     "is_executing": false
    }
   },
   "outputs": [],
   "source": [
    "import pandas as pd"
   ]
  },
  {
   "cell_type": "code",
   "execution_count": 3,
   "outputs": [
    {
     "name": "stdout",
     "text": [
      "<class 'pandas.core.frame.DataFrame'>\nRangeIndex: 59 entries, 0 to 58\nData columns (total 17 columns):\n #   Column             Non-Null Count  Dtype  \n---  ------             --------------  -----  \n 0   Anho               58 non-null     float64\n 1   Posicion           58 non-null     float64\n 2   Selección          58 non-null     object \n 3   Pts.               58 non-null     float64\n 4   PJ                 58 non-null     float64\n 5   PG                 58 non-null     float64\n 6   PE                 58 non-null     float64\n 7   PP                 58 non-null     float64\n 8   GF                 58 non-null     float64\n 9   GC                 58 non-null     float64\n 10  Dif.               58 non-null     float64\n 11  Golpartido         58 non-null     float64\n 12  Golcontra          58 non-null     float64\n 13  Diferenciapartido  58 non-null     float64\n 14  Prop_ganados       58 non-null     float64\n 15  Prop_empate        58 non-null     float64\n 16  Prop_perdido       58 non-null     float64\ndtypes: float64(16), object(1)\nmemory usage: 8.0+ KB\n"
     ],
     "output_type": "stream"
    },
    {
     "data": {
      "text/plain": "     Anho  Posicion  Selección  Pts.    PJ    PG   PE   PP    GF    GC  Dif.  \\\n0  2018.0       1.0     Brasil  41.0  18.0  12.0  5.0  1.0  41.0  11.0  30.0   \n1  2018.0       2.0    Uruguay  31.0  18.0   9.0  4.0  5.0  32.0  20.0  12.0   \n2  2018.0       3.0  Argentina  28.0  18.0   7.0  7.0  4.0  19.0  16.0   3.0   \n3  2018.0       4.0   Colombia  27.0  18.0   7.0  6.0  5.0  21.0  19.0   2.0   \n4  2018.0       5.0       Perú  26.0  18.0   7.0  5.0  6.0  27.0  26.0   1.0   \n\n   Golpartido  Golcontra  Diferenciapartido  Prop_ganados  Prop_empate  \\\n0         2.3        0.6                1.7          0.67         0.28   \n1         1.8        1.1                0.7          0.50         0.22   \n2         1.1        0.9                0.2          0.39         0.39   \n3         1.2        1.1                0.1          0.39         0.33   \n4         1.5        1.4                0.1          0.39         0.28   \n\n   Prop_perdido  \n0          0.06  \n1          0.28  \n2          0.22  \n3          0.28  \n4          0.33  ",
      "text/html": "<div>\n<style scoped>\n    .dataframe tbody tr th:only-of-type {\n        vertical-align: middle;\n    }\n\n    .dataframe tbody tr th {\n        vertical-align: top;\n    }\n\n    .dataframe thead th {\n        text-align: right;\n    }\n</style>\n<table border=\"1\" class=\"dataframe\">\n  <thead>\n    <tr style=\"text-align: right;\">\n      <th></th>\n      <th>Anho</th>\n      <th>Posicion</th>\n      <th>Selección</th>\n      <th>Pts.</th>\n      <th>PJ</th>\n      <th>PG</th>\n      <th>PE</th>\n      <th>PP</th>\n      <th>GF</th>\n      <th>GC</th>\n      <th>Dif.</th>\n      <th>Golpartido</th>\n      <th>Golcontra</th>\n      <th>Diferenciapartido</th>\n      <th>Prop_ganados</th>\n      <th>Prop_empate</th>\n      <th>Prop_perdido</th>\n    </tr>\n  </thead>\n  <tbody>\n    <tr>\n      <th>0</th>\n      <td>2018.0</td>\n      <td>1.0</td>\n      <td>Brasil</td>\n      <td>41.0</td>\n      <td>18.0</td>\n      <td>12.0</td>\n      <td>5.0</td>\n      <td>1.0</td>\n      <td>41.0</td>\n      <td>11.0</td>\n      <td>30.0</td>\n      <td>2.3</td>\n      <td>0.6</td>\n      <td>1.7</td>\n      <td>0.67</td>\n      <td>0.28</td>\n      <td>0.06</td>\n    </tr>\n    <tr>\n      <th>1</th>\n      <td>2018.0</td>\n      <td>2.0</td>\n      <td>Uruguay</td>\n      <td>31.0</td>\n      <td>18.0</td>\n      <td>9.0</td>\n      <td>4.0</td>\n      <td>5.0</td>\n      <td>32.0</td>\n      <td>20.0</td>\n      <td>12.0</td>\n      <td>1.8</td>\n      <td>1.1</td>\n      <td>0.7</td>\n      <td>0.50</td>\n      <td>0.22</td>\n      <td>0.28</td>\n    </tr>\n    <tr>\n      <th>2</th>\n      <td>2018.0</td>\n      <td>3.0</td>\n      <td>Argentina</td>\n      <td>28.0</td>\n      <td>18.0</td>\n      <td>7.0</td>\n      <td>7.0</td>\n      <td>4.0</td>\n      <td>19.0</td>\n      <td>16.0</td>\n      <td>3.0</td>\n      <td>1.1</td>\n      <td>0.9</td>\n      <td>0.2</td>\n      <td>0.39</td>\n      <td>0.39</td>\n      <td>0.22</td>\n    </tr>\n    <tr>\n      <th>3</th>\n      <td>2018.0</td>\n      <td>4.0</td>\n      <td>Colombia</td>\n      <td>27.0</td>\n      <td>18.0</td>\n      <td>7.0</td>\n      <td>6.0</td>\n      <td>5.0</td>\n      <td>21.0</td>\n      <td>19.0</td>\n      <td>2.0</td>\n      <td>1.2</td>\n      <td>1.1</td>\n      <td>0.1</td>\n      <td>0.39</td>\n      <td>0.33</td>\n      <td>0.28</td>\n    </tr>\n    <tr>\n      <th>4</th>\n      <td>2018.0</td>\n      <td>5.0</td>\n      <td>Perú</td>\n      <td>26.0</td>\n      <td>18.0</td>\n      <td>7.0</td>\n      <td>5.0</td>\n      <td>6.0</td>\n      <td>27.0</td>\n      <td>26.0</td>\n      <td>1.0</td>\n      <td>1.5</td>\n      <td>1.4</td>\n      <td>0.1</td>\n      <td>0.39</td>\n      <td>0.28</td>\n      <td>0.33</td>\n    </tr>\n  </tbody>\n</table>\n</div>"
     },
     "metadata": {},
     "output_type": "execute_result",
     "execution_count": 3
    }
   ],
   "source": [
    "data_posicion = pd.read_csv(\"/Users/home/Documents/Documentos/Mate Posible/Matematicamente posible 2018/BD_posiciones_eliminatorias_98_2018.csv\")\n",
    "data_posicion.info()\n",
    "data_posicion.head()"
   ],
   "metadata": {
    "collapsed": false,
    "pycharm": {
     "name": "#%%\n",
     "is_executing": false
    }
   }
  },
  {
   "cell_type": "code",
   "execution_count": 4,
   "outputs": [
    {
     "data": {
      "text/plain": "      Anho  Posicion  Pts.   PG   PE   PP  Dif. Selección  Prop_ganados\n4   2018.0       5.0  26.0  7.0  5.0  6.0   1.0      Perú          0.39\n14  2014.0       5.0  25.0  7.0  4.0  5.0   0.0   Uruguay          0.44\n23  2010.0       5.0  24.0  6.0  6.0  6.0   8.0   Uruguay          0.33\n33  2006.0       5.0  25.0  6.0  7.0  5.0  -5.0   Uruguay          0.33\n43  2002.0       5.0  27.0  7.0  6.0  5.0   6.0   Uruguay          0.39\n53  1998.0       5.0  25.0  7.0  4.0  5.0  -1.0      Perú          0.44",
      "text/html": "<div>\n<style scoped>\n    .dataframe tbody tr th:only-of-type {\n        vertical-align: middle;\n    }\n\n    .dataframe tbody tr th {\n        vertical-align: top;\n    }\n\n    .dataframe thead th {\n        text-align: right;\n    }\n</style>\n<table border=\"1\" class=\"dataframe\">\n  <thead>\n    <tr style=\"text-align: right;\">\n      <th></th>\n      <th>Anho</th>\n      <th>Posicion</th>\n      <th>Pts.</th>\n      <th>PG</th>\n      <th>PE</th>\n      <th>PP</th>\n      <th>Dif.</th>\n      <th>Selección</th>\n      <th>Prop_ganados</th>\n    </tr>\n  </thead>\n  <tbody>\n    <tr>\n      <th>4</th>\n      <td>2018.0</td>\n      <td>5.0</td>\n      <td>26.0</td>\n      <td>7.0</td>\n      <td>5.0</td>\n      <td>6.0</td>\n      <td>1.0</td>\n      <td>Perú</td>\n      <td>0.39</td>\n    </tr>\n    <tr>\n      <th>14</th>\n      <td>2014.0</td>\n      <td>5.0</td>\n      <td>25.0</td>\n      <td>7.0</td>\n      <td>4.0</td>\n      <td>5.0</td>\n      <td>0.0</td>\n      <td>Uruguay</td>\n      <td>0.44</td>\n    </tr>\n    <tr>\n      <th>23</th>\n      <td>2010.0</td>\n      <td>5.0</td>\n      <td>24.0</td>\n      <td>6.0</td>\n      <td>6.0</td>\n      <td>6.0</td>\n      <td>8.0</td>\n      <td>Uruguay</td>\n      <td>0.33</td>\n    </tr>\n    <tr>\n      <th>33</th>\n      <td>2006.0</td>\n      <td>5.0</td>\n      <td>25.0</td>\n      <td>6.0</td>\n      <td>7.0</td>\n      <td>5.0</td>\n      <td>-5.0</td>\n      <td>Uruguay</td>\n      <td>0.33</td>\n    </tr>\n    <tr>\n      <th>43</th>\n      <td>2002.0</td>\n      <td>5.0</td>\n      <td>27.0</td>\n      <td>7.0</td>\n      <td>6.0</td>\n      <td>5.0</td>\n      <td>6.0</td>\n      <td>Uruguay</td>\n      <td>0.39</td>\n    </tr>\n    <tr>\n      <th>53</th>\n      <td>1998.0</td>\n      <td>5.0</td>\n      <td>25.0</td>\n      <td>7.0</td>\n      <td>4.0</td>\n      <td>5.0</td>\n      <td>-1.0</td>\n      <td>Perú</td>\n      <td>0.44</td>\n    </tr>\n  </tbody>\n</table>\n</div>"
     },
     "metadata": {},
     "output_type": "execute_result",
     "execution_count": 4
    }
   ],
   "source": [
    "# Checking points, wins,loses and draws of fifth place. \n",
    "data_posicion = data_posicion[['Anho', 'Posicion', 'Pts.',\n",
    "                                 'PG','PE','PP', 'Dif.', 'Selección', \n",
    "                               'Prop_ganados']]\n",
    "data_posicion_5 = data_posicion[data_posicion['Posicion']==5]\n",
    "data_posicion_5"
   ],
   "metadata": {
    "collapsed": false,
    "pycharm": {
     "name": "#%%\n",
     "is_executing": false
    }
   }
  },
  {
   "cell_type": "code",
   "execution_count": 4,
   "outputs": [
    {
     "data": {
      "text/plain": "      Anho  Posicion  Pts.   PG   PE   PP  Dif.   Selección\n3   2018.0       4.0  27.0  7.0  6.0  5.0   2.0    Colombia\n4   2018.0       5.0  26.0  7.0  5.0  6.0   1.0        Perú\n5   2018.0       6.0  26.0  8.0  2.0  8.0  -1.0       Chile\n13  2014.0       4.0  25.0  7.0  4.0  5.0   4.0     Ecuador\n14  2014.0       5.0  25.0  7.0  4.0  5.0   0.0     Uruguay\n15  2014.0       6.0  20.0  5.0  5.0  6.0  -6.0   Venezuela\n22  2010.0       4.0  28.0  8.0  4.0  6.0   3.0   Argentina\n23  2010.0       5.0  24.0  6.0  6.0  6.0   8.0     Uruguay\n24  2010.0       6.0  23.0  6.0  5.0  7.0  -4.0     Ecuador\n32  2006.0       4.0  28.0  8.0  4.0  6.0   0.0    Paraguay\n33  2006.0       5.0  25.0  6.0  7.0  5.0  -5.0     Uruguay\n34  2006.0       6.0  24.0  6.0  6.0  6.0   8.0    Colombia\n42  2002.0       4.0  30.0  9.0  3.0  6.0   6.0    Paraguay\n43  2002.0       5.0  27.0  7.0  6.0  5.0   6.0     Uruguay\n44  2002.0       6.0  27.0  7.0  6.0  5.0   5.0    Colombia\n52  1998.0       4.0  25.0  7.0  4.0  5.0  14.0       Chile\n53  1998.0       5.0  25.0  7.0  4.0  5.0  -1.0        Perú\n54  1998.0       6.0  21.0  6.0  3.0  7.0   1.0     Ecuador",
      "text/html": "<div>\n<style scoped>\n    .dataframe tbody tr th:only-of-type {\n        vertical-align: middle;\n    }\n\n    .dataframe tbody tr th {\n        vertical-align: top;\n    }\n\n    .dataframe thead th {\n        text-align: right;\n    }\n</style>\n<table border=\"1\" class=\"dataframe\">\n  <thead>\n    <tr style=\"text-align: right;\">\n      <th></th>\n      <th>Anho</th>\n      <th>Posicion</th>\n      <th>Pts.</th>\n      <th>PG</th>\n      <th>PE</th>\n      <th>PP</th>\n      <th>Dif.</th>\n      <th>Selección</th>\n    </tr>\n  </thead>\n  <tbody>\n    <tr>\n      <th>3</th>\n      <td>2018.0</td>\n      <td>4.0</td>\n      <td>27.0</td>\n      <td>7.0</td>\n      <td>6.0</td>\n      <td>5.0</td>\n      <td>2.0</td>\n      <td>Colombia</td>\n    </tr>\n    <tr>\n      <th>4</th>\n      <td>2018.0</td>\n      <td>5.0</td>\n      <td>26.0</td>\n      <td>7.0</td>\n      <td>5.0</td>\n      <td>6.0</td>\n      <td>1.0</td>\n      <td>Perú</td>\n    </tr>\n    <tr>\n      <th>5</th>\n      <td>2018.0</td>\n      <td>6.0</td>\n      <td>26.0</td>\n      <td>8.0</td>\n      <td>2.0</td>\n      <td>8.0</td>\n      <td>-1.0</td>\n      <td>Chile</td>\n    </tr>\n    <tr>\n      <th>13</th>\n      <td>2014.0</td>\n      <td>4.0</td>\n      <td>25.0</td>\n      <td>7.0</td>\n      <td>4.0</td>\n      <td>5.0</td>\n      <td>4.0</td>\n      <td>Ecuador</td>\n    </tr>\n    <tr>\n      <th>14</th>\n      <td>2014.0</td>\n      <td>5.0</td>\n      <td>25.0</td>\n      <td>7.0</td>\n      <td>4.0</td>\n      <td>5.0</td>\n      <td>0.0</td>\n      <td>Uruguay</td>\n    </tr>\n    <tr>\n      <th>15</th>\n      <td>2014.0</td>\n      <td>6.0</td>\n      <td>20.0</td>\n      <td>5.0</td>\n      <td>5.0</td>\n      <td>6.0</td>\n      <td>-6.0</td>\n      <td>Venezuela</td>\n    </tr>\n    <tr>\n      <th>22</th>\n      <td>2010.0</td>\n      <td>4.0</td>\n      <td>28.0</td>\n      <td>8.0</td>\n      <td>4.0</td>\n      <td>6.0</td>\n      <td>3.0</td>\n      <td>Argentina</td>\n    </tr>\n    <tr>\n      <th>23</th>\n      <td>2010.0</td>\n      <td>5.0</td>\n      <td>24.0</td>\n      <td>6.0</td>\n      <td>6.0</td>\n      <td>6.0</td>\n      <td>8.0</td>\n      <td>Uruguay</td>\n    </tr>\n    <tr>\n      <th>24</th>\n      <td>2010.0</td>\n      <td>6.0</td>\n      <td>23.0</td>\n      <td>6.0</td>\n      <td>5.0</td>\n      <td>7.0</td>\n      <td>-4.0</td>\n      <td>Ecuador</td>\n    </tr>\n    <tr>\n      <th>32</th>\n      <td>2006.0</td>\n      <td>4.0</td>\n      <td>28.0</td>\n      <td>8.0</td>\n      <td>4.0</td>\n      <td>6.0</td>\n      <td>0.0</td>\n      <td>Paraguay</td>\n    </tr>\n    <tr>\n      <th>33</th>\n      <td>2006.0</td>\n      <td>5.0</td>\n      <td>25.0</td>\n      <td>6.0</td>\n      <td>7.0</td>\n      <td>5.0</td>\n      <td>-5.0</td>\n      <td>Uruguay</td>\n    </tr>\n    <tr>\n      <th>34</th>\n      <td>2006.0</td>\n      <td>6.0</td>\n      <td>24.0</td>\n      <td>6.0</td>\n      <td>6.0</td>\n      <td>6.0</td>\n      <td>8.0</td>\n      <td>Colombia</td>\n    </tr>\n    <tr>\n      <th>42</th>\n      <td>2002.0</td>\n      <td>4.0</td>\n      <td>30.0</td>\n      <td>9.0</td>\n      <td>3.0</td>\n      <td>6.0</td>\n      <td>6.0</td>\n      <td>Paraguay</td>\n    </tr>\n    <tr>\n      <th>43</th>\n      <td>2002.0</td>\n      <td>5.0</td>\n      <td>27.0</td>\n      <td>7.0</td>\n      <td>6.0</td>\n      <td>5.0</td>\n      <td>6.0</td>\n      <td>Uruguay</td>\n    </tr>\n    <tr>\n      <th>44</th>\n      <td>2002.0</td>\n      <td>6.0</td>\n      <td>27.0</td>\n      <td>7.0</td>\n      <td>6.0</td>\n      <td>5.0</td>\n      <td>5.0</td>\n      <td>Colombia</td>\n    </tr>\n    <tr>\n      <th>52</th>\n      <td>1998.0</td>\n      <td>4.0</td>\n      <td>25.0</td>\n      <td>7.0</td>\n      <td>4.0</td>\n      <td>5.0</td>\n      <td>14.0</td>\n      <td>Chile</td>\n    </tr>\n    <tr>\n      <th>53</th>\n      <td>1998.0</td>\n      <td>5.0</td>\n      <td>25.0</td>\n      <td>7.0</td>\n      <td>4.0</td>\n      <td>5.0</td>\n      <td>-1.0</td>\n      <td>Perú</td>\n    </tr>\n    <tr>\n      <th>54</th>\n      <td>1998.0</td>\n      <td>6.0</td>\n      <td>21.0</td>\n      <td>6.0</td>\n      <td>3.0</td>\n      <td>7.0</td>\n      <td>1.0</td>\n      <td>Ecuador</td>\n    </tr>\n  </tbody>\n</table>\n</div>"
     },
     "metadata": {},
     "output_type": "execute_result",
     "execution_count": 4
    }
   ],
   "source": [
    "# Checking points wins, loses and draws of fourth fifth and sixth places. \n",
    "positions = [4,5,6]\n",
    "data_posicion_456 = data_posicion[data_posicion.Posicion.isin(positions)]\n",
    "data_posicion_456\n",
    "# Just in one year, the sixth place had more wins than the fifth place. "
   ],
   "metadata": {
    "collapsed": false,
    "pycharm": {
     "name": "#%%\n",
     "is_executing": false
    }
   }
  },
  {
   "cell_type": "code",
   "execution_count": 5,
   "outputs": [
    {
     "data": {
      "text/plain": "        Pais  ID  Partido  Posición  Puntos  Eliminatoria  Unnamed: 6  \\\n50   Uruguay   3        6       1.0    13.0          2018         NaN   \n57      Perú   8        6       8.0     4.0          2018         NaN   \n230  Uruguay   3        6       2.0    11.0          2014         NaN   \n237     Perú   8        6       9.0     3.0          2014         NaN   \n410  Uruguay   3        6       6.0     8.0          2010         NaN   \n417     Perú   8        6      10.0     3.0          2010         NaN   \n590  Uruguay   3        6       8.0     7.0          2006         NaN   \n597     Perú   8        6       6.0     8.0          2006         NaN   \n770  Uruguay   3        6       3.0    11.0          2002         NaN   \n777     Perú   8        6       8.0     5.0          2002         NaN   \n950  Uruguay   3        6       7.0     6.0          1998         NaN   \n957     Perú   8        6       6.0     6.0          1998         NaN   \n\n     Unnamed: 7  \n50          NaN  \n57          NaN  \n230         NaN  \n237         NaN  \n410         NaN  \n417         NaN  \n590         NaN  \n597         NaN  \n770         NaN  \n777         NaN  \n950         NaN  \n957         NaN  ",
      "text/html": "<div>\n<style scoped>\n    .dataframe tbody tr th:only-of-type {\n        vertical-align: middle;\n    }\n\n    .dataframe tbody tr th {\n        vertical-align: top;\n    }\n\n    .dataframe thead th {\n        text-align: right;\n    }\n</style>\n<table border=\"1\" class=\"dataframe\">\n  <thead>\n    <tr style=\"text-align: right;\">\n      <th></th>\n      <th>Pais</th>\n      <th>ID</th>\n      <th>Partido</th>\n      <th>Posición</th>\n      <th>Puntos</th>\n      <th>Eliminatoria</th>\n      <th>Unnamed: 6</th>\n      <th>Unnamed: 7</th>\n    </tr>\n  </thead>\n  <tbody>\n    <tr>\n      <th>50</th>\n      <td>Uruguay</td>\n      <td>3</td>\n      <td>6</td>\n      <td>1.0</td>\n      <td>13.0</td>\n      <td>2018</td>\n      <td>NaN</td>\n      <td>NaN</td>\n    </tr>\n    <tr>\n      <th>57</th>\n      <td>Perú</td>\n      <td>8</td>\n      <td>6</td>\n      <td>8.0</td>\n      <td>4.0</td>\n      <td>2018</td>\n      <td>NaN</td>\n      <td>NaN</td>\n    </tr>\n    <tr>\n      <th>230</th>\n      <td>Uruguay</td>\n      <td>3</td>\n      <td>6</td>\n      <td>2.0</td>\n      <td>11.0</td>\n      <td>2014</td>\n      <td>NaN</td>\n      <td>NaN</td>\n    </tr>\n    <tr>\n      <th>237</th>\n      <td>Perú</td>\n      <td>8</td>\n      <td>6</td>\n      <td>9.0</td>\n      <td>3.0</td>\n      <td>2014</td>\n      <td>NaN</td>\n      <td>NaN</td>\n    </tr>\n    <tr>\n      <th>410</th>\n      <td>Uruguay</td>\n      <td>3</td>\n      <td>6</td>\n      <td>6.0</td>\n      <td>8.0</td>\n      <td>2010</td>\n      <td>NaN</td>\n      <td>NaN</td>\n    </tr>\n    <tr>\n      <th>417</th>\n      <td>Perú</td>\n      <td>8</td>\n      <td>6</td>\n      <td>10.0</td>\n      <td>3.0</td>\n      <td>2010</td>\n      <td>NaN</td>\n      <td>NaN</td>\n    </tr>\n    <tr>\n      <th>590</th>\n      <td>Uruguay</td>\n      <td>3</td>\n      <td>6</td>\n      <td>8.0</td>\n      <td>7.0</td>\n      <td>2006</td>\n      <td>NaN</td>\n      <td>NaN</td>\n    </tr>\n    <tr>\n      <th>597</th>\n      <td>Perú</td>\n      <td>8</td>\n      <td>6</td>\n      <td>6.0</td>\n      <td>8.0</td>\n      <td>2006</td>\n      <td>NaN</td>\n      <td>NaN</td>\n    </tr>\n    <tr>\n      <th>770</th>\n      <td>Uruguay</td>\n      <td>3</td>\n      <td>6</td>\n      <td>3.0</td>\n      <td>11.0</td>\n      <td>2002</td>\n      <td>NaN</td>\n      <td>NaN</td>\n    </tr>\n    <tr>\n      <th>777</th>\n      <td>Perú</td>\n      <td>8</td>\n      <td>6</td>\n      <td>8.0</td>\n      <td>5.0</td>\n      <td>2002</td>\n      <td>NaN</td>\n      <td>NaN</td>\n    </tr>\n    <tr>\n      <th>950</th>\n      <td>Uruguay</td>\n      <td>3</td>\n      <td>6</td>\n      <td>7.0</td>\n      <td>6.0</td>\n      <td>1998</td>\n      <td>NaN</td>\n      <td>NaN</td>\n    </tr>\n    <tr>\n      <th>957</th>\n      <td>Perú</td>\n      <td>8</td>\n      <td>6</td>\n      <td>6.0</td>\n      <td>6.0</td>\n      <td>1998</td>\n      <td>NaN</td>\n      <td>NaN</td>\n    </tr>\n  </tbody>\n</table>\n</div>"
     },
     "metadata": {},
     "output_type": "execute_result",
     "execution_count": 5
    }
   ],
   "source": [
    "# Understanding the first six games of the fifth place\n",
    "data_5_6games = pd.read_csv(\"/Users/home/Documents/Documentos/Mate Posible/Matematicamente posible 2018/BD_posiciones_98_2018_por_partido.csv\")\n",
    "\n",
    "partido = [6]\n",
    "Equipo = ['Perú', 'Uruguay']\n",
    "\n",
    "data_5_6games_summary = data_5_6games[data_5_6games.Partido.isin(partido)]\n",
    "data_5_6games_summary = data_5_6games_summary[data_5_6games_summary.Pais.isin(Equipo)]\n",
    "data_5_6games_summary\n"
   ],
   "metadata": {
    "collapsed": false,
    "pycharm": {
     "name": "#%%\n",
     "is_executing": false
    }
   }
  },
  {
   "cell_type": "code",
   "execution_count": 5,
   "outputs": [],
   "source": [],
   "metadata": {
    "collapsed": false,
    "pycharm": {
     "name": "#%%",
     "is_executing": false
    }
   }
  }
 ],
 "metadata": {
  "kernelspec": {
   "display_name": "Python 3",
   "language": "python",
   "name": "python3"
  },
  "language_info": {
   "codemirror_mode": {
    "name": "ipython",
    "version": 2
   },
   "file_extension": ".py",
   "mimetype": "text/x-python",
   "name": "python",
   "nbconvert_exporter": "python",
   "pygments_lexer": "ipython2",
   "version": "2.7.6"
  },
  "pycharm": {
   "stem_cell": {
    "cell_type": "raw",
    "source": [],
    "metadata": {
     "collapsed": false
    }
   }
  }
 },
 "nbformat": 4,
 "nbformat_minor": 0
}