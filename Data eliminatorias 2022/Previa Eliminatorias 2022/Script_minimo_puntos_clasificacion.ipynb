{
 "cells": [
  {
   "cell_type": "code",
   "execution_count": 16,
   "metadata": {
    "collapsed": true,
    "pycharm": {
     "is_executing": false
    }
   },
   "outputs": [
    {
     "name": "stdout",
     "text": [
      "<class 'pandas.core.frame.DataFrame'>\nRangeIndex: 59 entries, 0 to 58\nData columns (total 17 columns):\n #   Column             Non-Null Count  Dtype  \n---  ------             --------------  -----  \n 0   Anho               58 non-null     float64\n 1   Posicion           58 non-null     float64\n 2   Selección          58 non-null     object \n 3   Pts.               58 non-null     float64\n 4   PJ                 58 non-null     float64\n 5   PG                 58 non-null     float64\n 6   PE                 58 non-null     float64\n 7   PP                 58 non-null     float64\n 8   GF                 58 non-null     float64\n 9   GC                 58 non-null     float64\n 10  Dif.               58 non-null     float64\n 11  Golpartido         58 non-null     float64\n 12  Golcontra          58 non-null     float64\n 13  Diferenciapartido  58 non-null     float64\n 14  Prop_ganados       58 non-null     float64\n 15  Prop_empate        58 non-null     float64\n 16  Prop_perdido       58 non-null     float64\ndtypes: float64(16), object(1)\nmemory usage: 8.0+ KB\n"
     ],
     "output_type": "stream"
    }
   ],
   "source": [
    "import pandas as pd\n",
    "\n",
    "data_posicion = pd.read_csv(\"/Users/home/Documents/Documentos/Mate Posible/Matematicamente posible 2018/BD_posiciones_eliminatorias_98_2018.csv\")\n",
    "data_posicion.info()\n"
   ]
  },
  {
   "cell_type": "code",
   "execution_count": 17,
   "outputs": [
    {
     "data": {
      "text/plain": "      Anho  Posicion  Pts.   PG   PE   PP  Dif.\n4   2018.0       5.0  26.0  7.0  5.0  6.0   1.0\n14  2014.0       5.0  25.0  7.0  4.0  5.0   0.0\n23  2010.0       5.0  24.0  6.0  6.0  6.0   8.0\n33  2006.0       5.0  25.0  6.0  7.0  5.0  -5.0\n43  2002.0       5.0  27.0  7.0  6.0  5.0   6.0\n53  1998.0       5.0  25.0  7.0  4.0  5.0  -1.0",
      "text/html": "<div>\n<style scoped>\n    .dataframe tbody tr th:only-of-type {\n        vertical-align: middle;\n    }\n\n    .dataframe tbody tr th {\n        vertical-align: top;\n    }\n\n    .dataframe thead th {\n        text-align: right;\n    }\n</style>\n<table border=\"1\" class=\"dataframe\">\n  <thead>\n    <tr style=\"text-align: right;\">\n      <th></th>\n      <th>Anho</th>\n      <th>Posicion</th>\n      <th>Pts.</th>\n      <th>PG</th>\n      <th>PE</th>\n      <th>PP</th>\n      <th>Dif.</th>\n    </tr>\n  </thead>\n  <tbody>\n    <tr>\n      <th>4</th>\n      <td>2018.0</td>\n      <td>5.0</td>\n      <td>26.0</td>\n      <td>7.0</td>\n      <td>5.0</td>\n      <td>6.0</td>\n      <td>1.0</td>\n    </tr>\n    <tr>\n      <th>14</th>\n      <td>2014.0</td>\n      <td>5.0</td>\n      <td>25.0</td>\n      <td>7.0</td>\n      <td>4.0</td>\n      <td>5.0</td>\n      <td>0.0</td>\n    </tr>\n    <tr>\n      <th>23</th>\n      <td>2010.0</td>\n      <td>5.0</td>\n      <td>24.0</td>\n      <td>6.0</td>\n      <td>6.0</td>\n      <td>6.0</td>\n      <td>8.0</td>\n    </tr>\n    <tr>\n      <th>33</th>\n      <td>2006.0</td>\n      <td>5.0</td>\n      <td>25.0</td>\n      <td>6.0</td>\n      <td>7.0</td>\n      <td>5.0</td>\n      <td>-5.0</td>\n    </tr>\n    <tr>\n      <th>43</th>\n      <td>2002.0</td>\n      <td>5.0</td>\n      <td>27.0</td>\n      <td>7.0</td>\n      <td>6.0</td>\n      <td>5.0</td>\n      <td>6.0</td>\n    </tr>\n    <tr>\n      <th>53</th>\n      <td>1998.0</td>\n      <td>5.0</td>\n      <td>25.0</td>\n      <td>7.0</td>\n      <td>4.0</td>\n      <td>5.0</td>\n      <td>-1.0</td>\n    </tr>\n  </tbody>\n</table>\n</div>"
     },
     "metadata": {},
     "output_type": "execute_result",
     "execution_count": 17
    }
   ],
   "source": [
    "# Checking points, wins,loses and draws of fifth place. \n",
    "data_posicion = data_posicion[['Anho', 'Posicion', 'Pts.',\n",
    "                                 'PG','PE','PP', 'Dif.']]\n",
    "data_posicion_5 = data_posicion[data_posicion['Posicion']==5]\n",
    "data_posicion_5"
   ],
   "metadata": {
    "collapsed": false,
    "pycharm": {
     "name": "#%%\n",
     "is_executing": false
    }
   }
  },
  {
   "cell_type": "code",
   "execution_count": 19,
   "outputs": [
    {
     "data": {
      "text/plain": "      Anho  Posicion  Pts.   PG   PE   PP  Dif.\n4   2018.0       5.0  26.0  7.0  5.0  6.0   1.0\n5   2018.0       6.0  26.0  8.0  2.0  8.0  -1.0\n14  2014.0       5.0  25.0  7.0  4.0  5.0   0.0\n15  2014.0       6.0  20.0  5.0  5.0  6.0  -6.0\n23  2010.0       5.0  24.0  6.0  6.0  6.0   8.0\n24  2010.0       6.0  23.0  6.0  5.0  7.0  -4.0\n33  2006.0       5.0  25.0  6.0  7.0  5.0  -5.0\n34  2006.0       6.0  24.0  6.0  6.0  6.0   8.0\n43  2002.0       5.0  27.0  7.0  6.0  5.0   6.0\n44  2002.0       6.0  27.0  7.0  6.0  5.0   5.0\n53  1998.0       5.0  25.0  7.0  4.0  5.0  -1.0\n54  1998.0       6.0  21.0  6.0  3.0  7.0   1.0",
      "text/html": "<div>\n<style scoped>\n    .dataframe tbody tr th:only-of-type {\n        vertical-align: middle;\n    }\n\n    .dataframe tbody tr th {\n        vertical-align: top;\n    }\n\n    .dataframe thead th {\n        text-align: right;\n    }\n</style>\n<table border=\"1\" class=\"dataframe\">\n  <thead>\n    <tr style=\"text-align: right;\">\n      <th></th>\n      <th>Anho</th>\n      <th>Posicion</th>\n      <th>Pts.</th>\n      <th>PG</th>\n      <th>PE</th>\n      <th>PP</th>\n      <th>Dif.</th>\n    </tr>\n  </thead>\n  <tbody>\n    <tr>\n      <th>4</th>\n      <td>2018.0</td>\n      <td>5.0</td>\n      <td>26.0</td>\n      <td>7.0</td>\n      <td>5.0</td>\n      <td>6.0</td>\n      <td>1.0</td>\n    </tr>\n    <tr>\n      <th>5</th>\n      <td>2018.0</td>\n      <td>6.0</td>\n      <td>26.0</td>\n      <td>8.0</td>\n      <td>2.0</td>\n      <td>8.0</td>\n      <td>-1.0</td>\n    </tr>\n    <tr>\n      <th>14</th>\n      <td>2014.0</td>\n      <td>5.0</td>\n      <td>25.0</td>\n      <td>7.0</td>\n      <td>4.0</td>\n      <td>5.0</td>\n      <td>0.0</td>\n    </tr>\n    <tr>\n      <th>15</th>\n      <td>2014.0</td>\n      <td>6.0</td>\n      <td>20.0</td>\n      <td>5.0</td>\n      <td>5.0</td>\n      <td>6.0</td>\n      <td>-6.0</td>\n    </tr>\n    <tr>\n      <th>23</th>\n      <td>2010.0</td>\n      <td>5.0</td>\n      <td>24.0</td>\n      <td>6.0</td>\n      <td>6.0</td>\n      <td>6.0</td>\n      <td>8.0</td>\n    </tr>\n    <tr>\n      <th>24</th>\n      <td>2010.0</td>\n      <td>6.0</td>\n      <td>23.0</td>\n      <td>6.0</td>\n      <td>5.0</td>\n      <td>7.0</td>\n      <td>-4.0</td>\n    </tr>\n    <tr>\n      <th>33</th>\n      <td>2006.0</td>\n      <td>5.0</td>\n      <td>25.0</td>\n      <td>6.0</td>\n      <td>7.0</td>\n      <td>5.0</td>\n      <td>-5.0</td>\n    </tr>\n    <tr>\n      <th>34</th>\n      <td>2006.0</td>\n      <td>6.0</td>\n      <td>24.0</td>\n      <td>6.0</td>\n      <td>6.0</td>\n      <td>6.0</td>\n      <td>8.0</td>\n    </tr>\n    <tr>\n      <th>43</th>\n      <td>2002.0</td>\n      <td>5.0</td>\n      <td>27.0</td>\n      <td>7.0</td>\n      <td>6.0</td>\n      <td>5.0</td>\n      <td>6.0</td>\n    </tr>\n    <tr>\n      <th>44</th>\n      <td>2002.0</td>\n      <td>6.0</td>\n      <td>27.0</td>\n      <td>7.0</td>\n      <td>6.0</td>\n      <td>5.0</td>\n      <td>5.0</td>\n    </tr>\n    <tr>\n      <th>53</th>\n      <td>1998.0</td>\n      <td>5.0</td>\n      <td>25.0</td>\n      <td>7.0</td>\n      <td>4.0</td>\n      <td>5.0</td>\n      <td>-1.0</td>\n    </tr>\n    <tr>\n      <th>54</th>\n      <td>1998.0</td>\n      <td>6.0</td>\n      <td>21.0</td>\n      <td>6.0</td>\n      <td>3.0</td>\n      <td>7.0</td>\n      <td>1.0</td>\n    </tr>\n  </tbody>\n</table>\n</div>"
     },
     "metadata": {},
     "output_type": "execute_result",
     "execution_count": 19
    }
   ],
   "source": [
    "# Checking points wins, loses and draws of fifth and sixth places. \n",
    "positions = [5,6]\n",
    "data_posicion_56 = data_posicion[data_posicion.Posicion.isin(positions)]\n",
    "data_posicion_56\n",
    "# Just in one year, the sixth place had more wins than the fifth place. "
   ],
   "metadata": {
    "collapsed": false,
    "pycharm": {
     "name": "#%%\n",
     "is_executing": false
    }
   }
  },
  {
   "cell_type": "code",
   "execution_count": 20,
   "outputs": [
    {
     "data": {
      "text/plain": "      Anho  Posicion  Pts.    PG   PE    PP  Dif.\n0   2018.0       1.0  41.0  12.0  5.0   1.0  30.0\n1   2018.0       2.0  31.0   9.0  4.0   5.0  12.0\n2   2018.0       3.0  28.0   7.0  7.0   4.0   3.0\n3   2018.0       4.0  27.0   7.0  6.0   5.0   2.0\n4   2018.0       5.0  26.0   7.0  5.0   6.0   1.0\n5   2018.0       6.0  26.0   8.0  2.0   8.0  -1.0\n6   2018.0       7.0  24.0   7.0  3.0   8.0  -6.0\n7   2018.0       8.0  20.0   6.0  2.0  10.0  -3.0\n8   2018.0       9.0  14.0   4.0  2.0  12.0 -22.0\n9   2018.0      10.0  12.0   2.0  6.0  10.0 -16.0\n10  2014.0       1.0  32.0   9.0  5.0   2.0  20.0\n11  2014.0       2.0  30.0   9.0  3.0   4.0  14.0\n12  2014.0       3.0  28.0   9.0  1.0   6.0   4.0\n13  2014.0       4.0  25.0   7.0  4.0   5.0   4.0\n14  2014.0       5.0  25.0   7.0  4.0   5.0   0.0\n15  2014.0       6.0  20.0   5.0  5.0   6.0  -6.0\n16  2014.0       7.0  15.0   4.0  3.0   9.0  -9.0\n17  2014.0       8.0  12.0   2.0  6.0   8.0 -13.0\n18  2014.0       9.0  12.0   3.0  3.0  10.0 -14.0\n19  2010.0       1.0  34.0   9.0  7.0   2.0  22.0\n20  2010.0       2.0  33.0  10.0  3.0   5.0  10.0\n21  2010.0       3.0  33.0  10.0  3.0   5.0   8.0\n22  2010.0       4.0  28.0   8.0  4.0   6.0   3.0\n23  2010.0       5.0  24.0   6.0  6.0   6.0   8.0\n24  2010.0       6.0  23.0   6.0  5.0   7.0  -4.0\n25  2010.0       7.0  23.0   6.0  5.0   7.0  -4.0\n26  2010.0       8.0  22.0   6.0  4.0   8.0  -6.0\n27  2010.0       9.0  15.0   4.0  3.0  11.0 -14.0\n28  2010.0      10.0  13.0   3.0  4.0  11.0 -23.0\n29  2006.0       1.0  34.0   9.0  7.0   2.0  18.0\n30  2006.0       2.0  34.0  10.0  4.0   4.0  12.0\n31  2006.0       3.0  28.0   8.0  4.0   6.0   4.0\n32  2006.0       4.0  28.0   8.0  4.0   6.0   0.0\n33  2006.0       5.0  25.0   6.0  7.0   5.0  -5.0\n34  2006.0       6.0  24.0   6.0  6.0   6.0   8.0\n35  2006.0       7.0  22.0   5.0  7.0   6.0  -4.0\n36  2006.0       8.0  18.0   4.0  6.0   8.0  -8.0\n37  2006.0       9.0  18.0   5.0  3.0  10.0  -8.0\n38  2006.0      10.0  14.0   4.0  2.0  12.0 -17.0\n39  2002.0       1.0  43.0  13.0  4.0   1.0  27.0\n40  2002.0       2.0  31.0   9.0  4.0   5.0   3.0\n41  2002.0       3.0  30.0   9.0  3.0   6.0  14.0\n42  2002.0       4.0  30.0   9.0  3.0   6.0   6.0\n43  2002.0       5.0  27.0   7.0  6.0   5.0   6.0\n44  2002.0       6.0  27.0   7.0  6.0   5.0   5.0\n45  2002.0       7.0  18.0   4.0  6.0   8.0 -12.0\n46  2002.0       8.0  16.0   4.0  4.0  10.0 -11.0\n47  2002.0       9.0  16.0   5.0  1.0  12.0 -26.0\n48  2002.0      10.0  12.0   3.0  3.0  12.0 -12.0\n49  1998.0       1.0  30.0   8.0  6.0   2.0  10.0\n50  1998.0       2.0  29.0   9.0  2.0   5.0   7.0\n51  1998.0       3.0  28.0   8.0  4.0   4.0   8.0\n52  1998.0       4.0  25.0   7.0  4.0   5.0  14.0\n53  1998.0       5.0  25.0   7.0  4.0   5.0  -1.0\n54  1998.0       6.0  21.0   6.0  3.0   7.0   1.0\n55  1998.0       7.0  21.0   6.0  3.0   7.0  -3.0\n56  1998.0       8.0  17.0   4.0  5.0   7.0  -3.0\n57  1998.0       9.0   3.0   0.0  3.0  13.0 -33.0\n58     NaN       NaN   NaN   NaN  NaN   NaN   NaN",
      "text/html": "<div>\n<style scoped>\n    .dataframe tbody tr th:only-of-type {\n        vertical-align: middle;\n    }\n\n    .dataframe tbody tr th {\n        vertical-align: top;\n    }\n\n    .dataframe thead th {\n        text-align: right;\n    }\n</style>\n<table border=\"1\" class=\"dataframe\">\n  <thead>\n    <tr style=\"text-align: right;\">\n      <th></th>\n      <th>Anho</th>\n      <th>Posicion</th>\n      <th>Pts.</th>\n      <th>PG</th>\n      <th>PE</th>\n      <th>PP</th>\n      <th>Dif.</th>\n    </tr>\n  </thead>\n  <tbody>\n    <tr>\n      <th>0</th>\n      <td>2018.0</td>\n      <td>1.0</td>\n      <td>41.0</td>\n      <td>12.0</td>\n      <td>5.0</td>\n      <td>1.0</td>\n      <td>30.0</td>\n    </tr>\n    <tr>\n      <th>1</th>\n      <td>2018.0</td>\n      <td>2.0</td>\n      <td>31.0</td>\n      <td>9.0</td>\n      <td>4.0</td>\n      <td>5.0</td>\n      <td>12.0</td>\n    </tr>\n    <tr>\n      <th>2</th>\n      <td>2018.0</td>\n      <td>3.0</td>\n      <td>28.0</td>\n      <td>7.0</td>\n      <td>7.0</td>\n      <td>4.0</td>\n      <td>3.0</td>\n    </tr>\n    <tr>\n      <th>3</th>\n      <td>2018.0</td>\n      <td>4.0</td>\n      <td>27.0</td>\n      <td>7.0</td>\n      <td>6.0</td>\n      <td>5.0</td>\n      <td>2.0</td>\n    </tr>\n    <tr>\n      <th>4</th>\n      <td>2018.0</td>\n      <td>5.0</td>\n      <td>26.0</td>\n      <td>7.0</td>\n      <td>5.0</td>\n      <td>6.0</td>\n      <td>1.0</td>\n    </tr>\n    <tr>\n      <th>5</th>\n      <td>2018.0</td>\n      <td>6.0</td>\n      <td>26.0</td>\n      <td>8.0</td>\n      <td>2.0</td>\n      <td>8.0</td>\n      <td>-1.0</td>\n    </tr>\n    <tr>\n      <th>6</th>\n      <td>2018.0</td>\n      <td>7.0</td>\n      <td>24.0</td>\n      <td>7.0</td>\n      <td>3.0</td>\n      <td>8.0</td>\n      <td>-6.0</td>\n    </tr>\n    <tr>\n      <th>7</th>\n      <td>2018.0</td>\n      <td>8.0</td>\n      <td>20.0</td>\n      <td>6.0</td>\n      <td>2.0</td>\n      <td>10.0</td>\n      <td>-3.0</td>\n    </tr>\n    <tr>\n      <th>8</th>\n      <td>2018.0</td>\n      <td>9.0</td>\n      <td>14.0</td>\n      <td>4.0</td>\n      <td>2.0</td>\n      <td>12.0</td>\n      <td>-22.0</td>\n    </tr>\n    <tr>\n      <th>9</th>\n      <td>2018.0</td>\n      <td>10.0</td>\n      <td>12.0</td>\n      <td>2.0</td>\n      <td>6.0</td>\n      <td>10.0</td>\n      <td>-16.0</td>\n    </tr>\n    <tr>\n      <th>10</th>\n      <td>2014.0</td>\n      <td>1.0</td>\n      <td>32.0</td>\n      <td>9.0</td>\n      <td>5.0</td>\n      <td>2.0</td>\n      <td>20.0</td>\n    </tr>\n    <tr>\n      <th>11</th>\n      <td>2014.0</td>\n      <td>2.0</td>\n      <td>30.0</td>\n      <td>9.0</td>\n      <td>3.0</td>\n      <td>4.0</td>\n      <td>14.0</td>\n    </tr>\n    <tr>\n      <th>12</th>\n      <td>2014.0</td>\n      <td>3.0</td>\n      <td>28.0</td>\n      <td>9.0</td>\n      <td>1.0</td>\n      <td>6.0</td>\n      <td>4.0</td>\n    </tr>\n    <tr>\n      <th>13</th>\n      <td>2014.0</td>\n      <td>4.0</td>\n      <td>25.0</td>\n      <td>7.0</td>\n      <td>4.0</td>\n      <td>5.0</td>\n      <td>4.0</td>\n    </tr>\n    <tr>\n      <th>14</th>\n      <td>2014.0</td>\n      <td>5.0</td>\n      <td>25.0</td>\n      <td>7.0</td>\n      <td>4.0</td>\n      <td>5.0</td>\n      <td>0.0</td>\n    </tr>\n    <tr>\n      <th>15</th>\n      <td>2014.0</td>\n      <td>6.0</td>\n      <td>20.0</td>\n      <td>5.0</td>\n      <td>5.0</td>\n      <td>6.0</td>\n      <td>-6.0</td>\n    </tr>\n    <tr>\n      <th>16</th>\n      <td>2014.0</td>\n      <td>7.0</td>\n      <td>15.0</td>\n      <td>4.0</td>\n      <td>3.0</td>\n      <td>9.0</td>\n      <td>-9.0</td>\n    </tr>\n    <tr>\n      <th>17</th>\n      <td>2014.0</td>\n      <td>8.0</td>\n      <td>12.0</td>\n      <td>2.0</td>\n      <td>6.0</td>\n      <td>8.0</td>\n      <td>-13.0</td>\n    </tr>\n    <tr>\n      <th>18</th>\n      <td>2014.0</td>\n      <td>9.0</td>\n      <td>12.0</td>\n      <td>3.0</td>\n      <td>3.0</td>\n      <td>10.0</td>\n      <td>-14.0</td>\n    </tr>\n    <tr>\n      <th>19</th>\n      <td>2010.0</td>\n      <td>1.0</td>\n      <td>34.0</td>\n      <td>9.0</td>\n      <td>7.0</td>\n      <td>2.0</td>\n      <td>22.0</td>\n    </tr>\n    <tr>\n      <th>20</th>\n      <td>2010.0</td>\n      <td>2.0</td>\n      <td>33.0</td>\n      <td>10.0</td>\n      <td>3.0</td>\n      <td>5.0</td>\n      <td>10.0</td>\n    </tr>\n    <tr>\n      <th>21</th>\n      <td>2010.0</td>\n      <td>3.0</td>\n      <td>33.0</td>\n      <td>10.0</td>\n      <td>3.0</td>\n      <td>5.0</td>\n      <td>8.0</td>\n    </tr>\n    <tr>\n      <th>22</th>\n      <td>2010.0</td>\n      <td>4.0</td>\n      <td>28.0</td>\n      <td>8.0</td>\n      <td>4.0</td>\n      <td>6.0</td>\n      <td>3.0</td>\n    </tr>\n    <tr>\n      <th>23</th>\n      <td>2010.0</td>\n      <td>5.0</td>\n      <td>24.0</td>\n      <td>6.0</td>\n      <td>6.0</td>\n      <td>6.0</td>\n      <td>8.0</td>\n    </tr>\n    <tr>\n      <th>24</th>\n      <td>2010.0</td>\n      <td>6.0</td>\n      <td>23.0</td>\n      <td>6.0</td>\n      <td>5.0</td>\n      <td>7.0</td>\n      <td>-4.0</td>\n    </tr>\n    <tr>\n      <th>25</th>\n      <td>2010.0</td>\n      <td>7.0</td>\n      <td>23.0</td>\n      <td>6.0</td>\n      <td>5.0</td>\n      <td>7.0</td>\n      <td>-4.0</td>\n    </tr>\n    <tr>\n      <th>26</th>\n      <td>2010.0</td>\n      <td>8.0</td>\n      <td>22.0</td>\n      <td>6.0</td>\n      <td>4.0</td>\n      <td>8.0</td>\n      <td>-6.0</td>\n    </tr>\n    <tr>\n      <th>27</th>\n      <td>2010.0</td>\n      <td>9.0</td>\n      <td>15.0</td>\n      <td>4.0</td>\n      <td>3.0</td>\n      <td>11.0</td>\n      <td>-14.0</td>\n    </tr>\n    <tr>\n      <th>28</th>\n      <td>2010.0</td>\n      <td>10.0</td>\n      <td>13.0</td>\n      <td>3.0</td>\n      <td>4.0</td>\n      <td>11.0</td>\n      <td>-23.0</td>\n    </tr>\n    <tr>\n      <th>29</th>\n      <td>2006.0</td>\n      <td>1.0</td>\n      <td>34.0</td>\n      <td>9.0</td>\n      <td>7.0</td>\n      <td>2.0</td>\n      <td>18.0</td>\n    </tr>\n    <tr>\n      <th>30</th>\n      <td>2006.0</td>\n      <td>2.0</td>\n      <td>34.0</td>\n      <td>10.0</td>\n      <td>4.0</td>\n      <td>4.0</td>\n      <td>12.0</td>\n    </tr>\n    <tr>\n      <th>31</th>\n      <td>2006.0</td>\n      <td>3.0</td>\n      <td>28.0</td>\n      <td>8.0</td>\n      <td>4.0</td>\n      <td>6.0</td>\n      <td>4.0</td>\n    </tr>\n    <tr>\n      <th>32</th>\n      <td>2006.0</td>\n      <td>4.0</td>\n      <td>28.0</td>\n      <td>8.0</td>\n      <td>4.0</td>\n      <td>6.0</td>\n      <td>0.0</td>\n    </tr>\n    <tr>\n      <th>33</th>\n      <td>2006.0</td>\n      <td>5.0</td>\n      <td>25.0</td>\n      <td>6.0</td>\n      <td>7.0</td>\n      <td>5.0</td>\n      <td>-5.0</td>\n    </tr>\n    <tr>\n      <th>34</th>\n      <td>2006.0</td>\n      <td>6.0</td>\n      <td>24.0</td>\n      <td>6.0</td>\n      <td>6.0</td>\n      <td>6.0</td>\n      <td>8.0</td>\n    </tr>\n    <tr>\n      <th>35</th>\n      <td>2006.0</td>\n      <td>7.0</td>\n      <td>22.0</td>\n      <td>5.0</td>\n      <td>7.0</td>\n      <td>6.0</td>\n      <td>-4.0</td>\n    </tr>\n    <tr>\n      <th>36</th>\n      <td>2006.0</td>\n      <td>8.0</td>\n      <td>18.0</td>\n      <td>4.0</td>\n      <td>6.0</td>\n      <td>8.0</td>\n      <td>-8.0</td>\n    </tr>\n    <tr>\n      <th>37</th>\n      <td>2006.0</td>\n      <td>9.0</td>\n      <td>18.0</td>\n      <td>5.0</td>\n      <td>3.0</td>\n      <td>10.0</td>\n      <td>-8.0</td>\n    </tr>\n    <tr>\n      <th>38</th>\n      <td>2006.0</td>\n      <td>10.0</td>\n      <td>14.0</td>\n      <td>4.0</td>\n      <td>2.0</td>\n      <td>12.0</td>\n      <td>-17.0</td>\n    </tr>\n    <tr>\n      <th>39</th>\n      <td>2002.0</td>\n      <td>1.0</td>\n      <td>43.0</td>\n      <td>13.0</td>\n      <td>4.0</td>\n      <td>1.0</td>\n      <td>27.0</td>\n    </tr>\n    <tr>\n      <th>40</th>\n      <td>2002.0</td>\n      <td>2.0</td>\n      <td>31.0</td>\n      <td>9.0</td>\n      <td>4.0</td>\n      <td>5.0</td>\n      <td>3.0</td>\n    </tr>\n    <tr>\n      <th>41</th>\n      <td>2002.0</td>\n      <td>3.0</td>\n      <td>30.0</td>\n      <td>9.0</td>\n      <td>3.0</td>\n      <td>6.0</td>\n      <td>14.0</td>\n    </tr>\n    <tr>\n      <th>42</th>\n      <td>2002.0</td>\n      <td>4.0</td>\n      <td>30.0</td>\n      <td>9.0</td>\n      <td>3.0</td>\n      <td>6.0</td>\n      <td>6.0</td>\n    </tr>\n    <tr>\n      <th>43</th>\n      <td>2002.0</td>\n      <td>5.0</td>\n      <td>27.0</td>\n      <td>7.0</td>\n      <td>6.0</td>\n      <td>5.0</td>\n      <td>6.0</td>\n    </tr>\n    <tr>\n      <th>44</th>\n      <td>2002.0</td>\n      <td>6.0</td>\n      <td>27.0</td>\n      <td>7.0</td>\n      <td>6.0</td>\n      <td>5.0</td>\n      <td>5.0</td>\n    </tr>\n    <tr>\n      <th>45</th>\n      <td>2002.0</td>\n      <td>7.0</td>\n      <td>18.0</td>\n      <td>4.0</td>\n      <td>6.0</td>\n      <td>8.0</td>\n      <td>-12.0</td>\n    </tr>\n    <tr>\n      <th>46</th>\n      <td>2002.0</td>\n      <td>8.0</td>\n      <td>16.0</td>\n      <td>4.0</td>\n      <td>4.0</td>\n      <td>10.0</td>\n      <td>-11.0</td>\n    </tr>\n    <tr>\n      <th>47</th>\n      <td>2002.0</td>\n      <td>9.0</td>\n      <td>16.0</td>\n      <td>5.0</td>\n      <td>1.0</td>\n      <td>12.0</td>\n      <td>-26.0</td>\n    </tr>\n    <tr>\n      <th>48</th>\n      <td>2002.0</td>\n      <td>10.0</td>\n      <td>12.0</td>\n      <td>3.0</td>\n      <td>3.0</td>\n      <td>12.0</td>\n      <td>-12.0</td>\n    </tr>\n    <tr>\n      <th>49</th>\n      <td>1998.0</td>\n      <td>1.0</td>\n      <td>30.0</td>\n      <td>8.0</td>\n      <td>6.0</td>\n      <td>2.0</td>\n      <td>10.0</td>\n    </tr>\n    <tr>\n      <th>50</th>\n      <td>1998.0</td>\n      <td>2.0</td>\n      <td>29.0</td>\n      <td>9.0</td>\n      <td>2.0</td>\n      <td>5.0</td>\n      <td>7.0</td>\n    </tr>\n    <tr>\n      <th>51</th>\n      <td>1998.0</td>\n      <td>3.0</td>\n      <td>28.0</td>\n      <td>8.0</td>\n      <td>4.0</td>\n      <td>4.0</td>\n      <td>8.0</td>\n    </tr>\n    <tr>\n      <th>52</th>\n      <td>1998.0</td>\n      <td>4.0</td>\n      <td>25.0</td>\n      <td>7.0</td>\n      <td>4.0</td>\n      <td>5.0</td>\n      <td>14.0</td>\n    </tr>\n    <tr>\n      <th>53</th>\n      <td>1998.0</td>\n      <td>5.0</td>\n      <td>25.0</td>\n      <td>7.0</td>\n      <td>4.0</td>\n      <td>5.0</td>\n      <td>-1.0</td>\n    </tr>\n    <tr>\n      <th>54</th>\n      <td>1998.0</td>\n      <td>6.0</td>\n      <td>21.0</td>\n      <td>6.0</td>\n      <td>3.0</td>\n      <td>7.0</td>\n      <td>1.0</td>\n    </tr>\n    <tr>\n      <th>55</th>\n      <td>1998.0</td>\n      <td>7.0</td>\n      <td>21.0</td>\n      <td>6.0</td>\n      <td>3.0</td>\n      <td>7.0</td>\n      <td>-3.0</td>\n    </tr>\n    <tr>\n      <th>56</th>\n      <td>1998.0</td>\n      <td>8.0</td>\n      <td>17.0</td>\n      <td>4.0</td>\n      <td>5.0</td>\n      <td>7.0</td>\n      <td>-3.0</td>\n    </tr>\n    <tr>\n      <th>57</th>\n      <td>1998.0</td>\n      <td>9.0</td>\n      <td>3.0</td>\n      <td>0.0</td>\n      <td>3.0</td>\n      <td>13.0</td>\n      <td>-33.0</td>\n    </tr>\n    <tr>\n      <th>58</th>\n      <td>NaN</td>\n      <td>NaN</td>\n      <td>NaN</td>\n      <td>NaN</td>\n      <td>NaN</td>\n      <td>NaN</td>\n      <td>NaN</td>\n    </tr>\n  </tbody>\n</table>\n</div>"
     },
     "metadata": {},
     "output_type": "execute_result",
     "execution_count": 20
    }
   ],
   "source": [],
   "metadata": {
    "collapsed": false,
    "pycharm": {
     "name": "#%%\n",
     "is_executing": false
    }
   }
  },
  {
   "cell_type": "code",
   "execution_count": null,
   "outputs": [],
   "source": [],
   "metadata": {
    "collapsed": false,
    "pycharm": {
     "name": "#%%"
    }
   }
  }
 ],
 "metadata": {
  "kernelspec": {
   "display_name": "Python 3",
   "language": "python",
   "name": "python3"
  },
  "language_info": {
   "codemirror_mode": {
    "name": "ipython",
    "version": 2
   },
   "file_extension": ".py",
   "mimetype": "text/x-python",
   "name": "python",
   "nbconvert_exporter": "python",
   "pygments_lexer": "ipython2",
   "version": "2.7.6"
  },
  "pycharm": {
   "stem_cell": {
    "cell_type": "raw",
    "source": [],
    "metadata": {
     "collapsed": false
    }
   }
  }
 },
 "nbformat": 4,
 "nbformat_minor": 0
}